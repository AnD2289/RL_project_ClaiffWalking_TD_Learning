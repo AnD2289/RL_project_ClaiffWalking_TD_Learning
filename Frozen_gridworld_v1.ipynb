{
 "cells": [
  {
   "cell_type": "code",
   "execution_count": 28,
   "metadata": {},
   "outputs": [],
   "source": [
    "import gym\n",
    "from gym import wrappers\n",
    "import numpy as np\n",
    "import random\n",
    "import os\n",
    "import matplotlib.pyplot as plt"
   ]
  },
  {
   "cell_type": "code",
   "execution_count": 45,
   "metadata": {},
   "outputs": [],
   "source": [
    "env = gym.make('FrozenLake8x8-v0')\n",
    "# env = wrappers.Monitor(env, os.getcwd()+'\\\\tmp\\\\FrozenLake_ex1')\n",
    "n_states = env.observation_space.n\n",
    "n_actions = env.action_space.n\n",
    "\n",
    "# Value function vector\n",
    "V = np.zeros([n_states, 1])\n",
    "# theta\n",
    "theta = np.random.rand(n_states*n_actions,1)\n",
    "\n",
    "num_episodes = 4000\n",
    "consecutive = 200\n",
    "gamma = 0.99\n",
    "V_table = np.zeros([num_episodes,n_states])\n",
    "lr_critic = 0.2 # 0.4\n",
    "lr_actor = 0.6 # 0.6"
   ]
  },
  {
   "cell_type": "code",
   "execution_count": 46,
   "metadata": {},
   "outputs": [],
   "source": [
    "list_reward = []\n",
    "for episode in range(num_episodes):\n",
    "    # print(\"Episode\", episode)\n",
    "    # First observation\n",
    "    s = env.reset()\n",
    "    done = False\n",
    "    discount = 1\n",
    "    total_reward = 0\n",
    "    num_steps = 0\n",
    "    while not done:\n",
    "        num_steps += 1\n",
    "        # Compute softmax\n",
    "        phi = np.zeros([4, n_states*n_actions])\n",
    "        for a in range(n_actions):\n",
    "            phi[a, s*n_actions + a] = 1\n",
    "        product = phi.dot(theta)\n",
    "        exponentiated = np.power(np.e, product)\n",
    "        total = np.sum(exponentiated)\n",
    "        prob_actions = np.divide(exponentiated, total)\n",
    "        action = np.random.choice(np.arange(0,4), 1, p=list(np.ndarray.flatten(prob_actions)))\n",
    "        action_table[n_actions]\n",
    "        # take action\n",
    "        obs, reward, done, info = env.step(action[0])\n",
    "#        if reward == 1:\n",
    "#            print(\"Reward 1!!!!!!!!!!!! At state\", obs)\n",
    "        # td error\n",
    "        delta = reward + gamma*V[obs] - V[s]\n",
    "\n",
    "        # update value vector\n",
    "        # V[s] = V[s] + (1/num_steps)*delta\n",
    "        V[s] = V[s] + lr_critic*delta        \n",
    "        V_table[episode,s] = V[s] \n",
    "        # theta update\n",
    "        gradient = np.transpose(phi[action,:])\n",
    "        for a in range(n_actions):\n",
    "            gradient = gradient + prob_actions[a] * np.transpose(phi[a:a+1,:])\n",
    "            theta = theta +  (0.01/(num_steps*np.log(num_steps+1)))* discount * delta * gradient\n",
    "#         theta = theta +  lr_actor* discount * delta * gradient        \n",
    "\n",
    "        discount = discount * gamma\n",
    "        s = obs\n",
    "        total_reward += reward\n",
    "        \n",
    "    list_reward.append(total_reward)\n",
    "\n",
    "    if (episode % consecutive == 0):\n",
    "#         print('Epidode no.=', episode)\n",
    "#         print(\"Theta\\n\", theta)\n",
    "#         print('V\\n', V)\n",
    "#         print(\"Score over time: \" + str(sum(list_reward)/consecutive))        \n",
    "        list_reward = []"
   ]
  },
  {
   "cell_type": "code",
   "execution_count": 47,
   "metadata": {},
   "outputs": [
    {
     "data": {
      "text/plain": [
       "(4000, 64)"
      ]
     },
     "execution_count": 47,
     "metadata": {},
     "output_type": "execute_result"
    }
   ],
   "source": [
    "np.shape(V_table)"
   ]
  },
  {
   "cell_type": "code",
   "execution_count": 48,
   "metadata": {},
   "outputs": [],
   "source": [
    "means = [row.mean() for row in V_table]\n",
    "squared_errors = [(row-mean)**2 for row, mean in zip(V_table, means)]\n",
    "variances = [row.mean() for row in squared_errors]"
   ]
  },
  {
   "cell_type": "code",
   "execution_count": 49,
   "metadata": {},
   "outputs": [
    {
     "data": {
      "text/plain": [
       "4000"
      ]
     },
     "execution_count": 49,
     "metadata": {},
     "output_type": "execute_result"
    }
   ],
   "source": [
    "np.size(variances)"
   ]
  },
  {
   "cell_type": "code",
   "execution_count": 54,
   "metadata": {},
   "outputs": [
    {
     "data": {
      "text/plain": [
       "[<matplotlib.lines.Line2D at 0x7f5e95340d90>]"
      ]
     },
     "execution_count": 54,
     "metadata": {},
     "output_type": "execute_result"
    },
    {
     "data": {
      "image/png": "[encoded data removed]",
      "text/plain": [
       "<Figure size 432x288 with 1 Axes>"
      ]
     },
     "metadata": {
      "needs_background": "light"
     },
     "output_type": "display_data"
    }
   ],
   "source": [
    "plt.plot(list_reward)"
   ]
  },
  {
   "cell_type": "code",
   "execution_count": null,
   "metadata": {},
   "outputs": [],
   "source": []
  }
 ],
 "metadata": {
  "kernelspec": {
   "display_name": "Python 3",
   "language": "python",
   "name": "python3"
  },
  "language_info": {
   "codemirror_mode": {
    "name": "ipython",
    "version": 3
   },
   "file_extension": ".py",
   "mimetype": "text/x-python",
   "name": "python",
   "nbconvert_exporter": "python",
   "pygments_lexer": "ipython3",
   "version": "3.8.5"
  }
 },
 "nbformat": 4,
 "nbformat_minor": 4
}
